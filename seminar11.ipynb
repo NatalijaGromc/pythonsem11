{
 "cells": [
  {
   "attachments": {},
   "cell_type": "markdown",
   "metadata": {},
   "source": [
    "f(x) = -12x^4*sin(cos(x)) - 18x^3+5x^2 + 10x - 30\n",
    "\n",
    "1. Определить корни\n",
    "2. Найти интервалы, на которых функция возрастает\n",
    "3. Найти интервалы, на которых функция убывает\n",
    "4. Построить график\n",
    "5. Вычислить вершину\n",
    "6. Определить промежутки, на котором f > 0\n",
    "7. Определить промежутки, на котором f < 0"
   ]
  },
  {
   "cell_type": "code",
   "execution_count": 5,
   "metadata": {},
   "outputs": [
    {
     "name": "stdout",
     "output_type": "stream",
     "text": [
      "Уравнение:\n",
      "-12*x**4*sin(cos(x)) - 18*x**3 + 5*x**2 + 10*x - 30 = 0\n"
     ]
    }
   ],
   "source": [
    "from sympy import symbols, sin, cos\n",
    "from sympy.plotting import plot\n",
    "from scipy.optimize import fsolve\n",
    "from scipy import misc\n",
    "import matplotlib.pyplot as plt\n",
    "import numpy\n",
    "\n",
    "x = symbols('x')\n",
    "eq = -12*(x**4)*sin(cos(x)) - 18*(x**3)+5*(x**2)+10*x-30\n",
    "\n",
    "def eq_func(x):\n",
    "    return -12*(x**4)*numpy.sin(numpy.cos(x)) - 18*(x**3)+5*(x**2)+10*x-30\n",
    "def eq_func_derivate(x):\n",
    "    return misc.derivative(eq_func,x,dx=1e-4)\n",
    "\n",
    "print(f'Уравнение:\\n{eq} = 0')"
   ]
  },
  {
   "cell_type": "code",
   "execution_count": 6,
   "metadata": {},
   "outputs": [],
   "source": [
    "def solution(f,root_interval):\n",
    "    '''\n",
    "    Возвращает массив корней уравнения на указанном интервале\n",
    "    '''\n",
    "    leftnum = root_interval[0]\n",
    "    rightnum = root_interval[1]\n",
    "    temp = leftnum\n",
    "    roots = []\n",
    "    # interval = []\n",
    "    x_step = 0.5\n",
    "    while temp < rightnum:\n",
    "        if f(temp) >= 0 and f(temp + x_step) <= 0:\n",
    "            w = fsolve(f, temp)\n",
    "            roots.append(*w)\n",
    "        if f(temp) <= 0 and f(temp + x_step) >= 0:\n",
    "            w = fsolve(f, temp)\n",
    "            roots.append(*w)\n",
    "        # if f(temp) > f(temp + 1) < f(temp + 2):\n",
    "        #     interval.append(temp + 1)\n",
    "        temp += x_step\n",
    "    roots = [round(i, 2) for i in roots]\n",
    "    # print(f'Корни уравнения для заданного интервала: {roots}')\n",
    "    return roots\n",
    "\n",
    "def get_sign_intervals(eq_func,interval):\n",
    "    '''Найти промежутки на которых f>0 и f<0 в заданной области interval'''\n",
    "    roots = solution(eq_func,interval)\n",
    "    zero_points = [interval[0], *roots, interval[1]]\n",
    "    sign_intervals = []\n",
    "    # print(zero_points)\n",
    "    for i in range(len(zero_points)-1):\n",
    "        x_val = (zero_points[i]+zero_points[i+1])*0.5\n",
    "        func_val = eq_func(x_val)\n",
    "        sign =  '+' if func_val>0 else '-'\n",
    "        sign_intervals.append([\n",
    "            zero_points[i],zero_points[i+1],sign\n",
    "            ])\n",
    "    return(sign_intervals)\n"
   ]
  },
  {
   "cell_type": "code",
   "execution_count": 7,
   "metadata": {},
   "outputs": [],
   "source": [
    "root_interval = list(map(int,input('Задайте через пробел интервал поиска решений').split(' ')))\n",
    "roots = solution(eq_func,root_interval)\n",
    "roots_derivative = solution(eq_func_derivate,root_interval)\n",
    "sign_intervals = get_sign_intervals(eq_func,root_interval)\n",
    "sign_derivative_intervals = get_sign_intervals(eq_func_derivate,root_interval)    "
   ]
  },
  {
   "cell_type": "code",
   "execution_count": 8,
   "metadata": {},
   "outputs": [
    {
     "name": "stdout",
     "output_type": "stream",
     "text": [
      "1. Корни уравнения для интервала [-8, 8]: \n",
      " [-7.65, -5.03, -1.34, 2.27, 4.38]\n",
      "[-6.83, -4.17, -0.39, -0.39, 1.7, 3.82, 7.0]\n",
      "\n",
      "2. f растет на интервалах: \n",
      "[-6.83, -4.17, '+']\n",
      "[-0.39, -0.39, '+']\n",
      "[1.7, 3.82, '+']\n",
      "[7.0, 8, '+']\n",
      "\n",
      "3. f убывает на интервалах: \n",
      "[-8, -6.83, '-']\n",
      "[-4.17, -0.39, '-']\n",
      "[-0.39, 1.7, '-']\n",
      "[3.82, 7.0, '-']\n",
      "\n",
      "4. график функции на интервале [-8, 8] \n",
      "\n",
      "5.Координаты вершин:\n",
      "-6.83,-13820.51\n",
      "-4.17,3111.347\n",
      "-0.39,-32.293\n",
      "-0.39,-32.293\n",
      "1.7,-74.106\n",
      "3.82,872.255\n",
      "7.0,-25610.491\n",
      "\n",
      "6. f>0 на интервалах: \n",
      "[-8, -7.65, '+']\n",
      "[-5.03, -1.34, '+']\n",
      "[2.27, 4.38, '+']\n",
      "\n",
      "7. f<0 на интервалах: \n",
      "[-7.65, -5.03, '-']\n",
      "[-1.34, 2.27, '-']\n",
      "[4.38, 8, '-']\n"
     ]
    },
    {
     "data": {
      "image/png": "[encoded data removed]",
      "text/plain": [
       "<Figure size 640x480 with 1 Axes>"
      ]
     },
     "metadata": {},
     "output_type": "display_data"
    }
   ],
   "source": [
    "print(f'1. Корни уравнения для интервала {root_interval}: \\n {roots}')\n",
    "print(roots_derivative)\n",
    "print('\\n2. f растет на интервалах: ')\n",
    "for sign_interval in sign_derivative_intervals:\n",
    "    if sign_interval[2] == '+':\n",
    "        print(sign_interval)\n",
    "print('\\n3. f убывает на интервалах: ')\n",
    "for sign_interval in sign_derivative_intervals:\n",
    "    if sign_interval[2] == '-':\n",
    "        print(sign_interval)\n",
    "\n",
    "x_arr = numpy.linspace(root_interval[0],root_interval[1],100)\n",
    "print(f'\\n4. график функции на интервале {root_interval} ')\n",
    "\n",
    "plt.grid()\n",
    "plt.plot(x_arr,[eq_func(x) for x in x_arr ])\n",
    "# plt.plot(x_arr,[eq_func_derivate(x) for x in x_arr ])\n",
    "plt.scatter(roots_derivative,[eq_func(root) for root in roots_derivative ])\n",
    "print('\\n5.Координаты вершин:')\n",
    "for root in roots_derivative:\n",
    "    print(f'{root},{round(eq_func(root),3)}')\n",
    "\n",
    "print('\\n6. f>0 на интервалах: ')\n",
    "for sign_interval in sign_intervals:\n",
    "    if sign_interval[2] == '+':\n",
    "        print(sign_interval)\n",
    "print('\\n7. f<0 на интервалах: ')\n",
    "for sign_interval in sign_intervals:\n",
    "    if sign_interval[2] == '-':\n",
    "        print(sign_interval)\n"
   ]
  }
 ],
 "metadata": {
  "kernelspec": {
   "display_name": "Python 3",
   "language": "python",
   "name": "python3"
  },
  "language_info": {
   "codemirror_mode": {
    "name": "ipython",
    "version": 3
   },
   "file_extension": ".py",
   "mimetype": "text/x-python",
   "name": "python",
   "nbconvert_exporter": "python",
   "pygments_lexer": "ipython3",
   "version": "3.11.0"
  },
  "orig_nbformat": 4,
  "vscode": {
   "interpreter": {
    "hash": "c261aea317cc0286b3b3261fbba9abdec21eaa57589985bb7a274bf54d6cc0a7"
   }
  }
 },
 "nbformat": 4,
 "nbformat_minor": 2
}
